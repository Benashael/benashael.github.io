{
 "cells": [
  {
   "cell_type": "code",
   "execution_count": null,
   "metadata": {},
   "outputs": [],
   "source": [
    "import random\n",
    "\n",
    "# Define possible user inputs and corresponding chatbot responses\n",
    "responses = {\n",
    "    \"hi\": \"Hello!\",\n",
    "    \"hello\": \"Hi there!\",\n",
    "    \"how are you\": \"I'm good, thank you for asking. How can I assist you today?\",\n",
    "    \"what's your name\": \"My name is Chatbot. How can I assist you today?\",\n",
    "    \"bye\": \"Goodbye!\",\n",
    "    \"thanks\": \"You're welcome!\",\n",
    "    \"default\": \"I'm sorry, I didn't understand. Can you please repeat your question?\",\n",
    "    \"ai\": \"Artificial Intelligence, refers to the ability of machines to perform tasks that normally require human intelligence, such as learning, reasoning, perception, and natural language processing.\"\n",
    "}\n",
    "\n",
    "# Define function to generate chatbot responses\n",
    "def chatbot_response(user_input):\n",
    "    # Convert user input to lowercase for easier matching\n",
    "    user_input = user_input.lower()\n",
    "    \n",
    "    # Check if user input matches any of the responses in the dictionary\n",
    "    for key in responses:\n",
    "        if key in user_input:\n",
    "            return responses[key]\n",
    "    \n",
    "    # If no match is found, return default response\n",
    "    return responses[\"default\"]\n",
    "\n",
    "# Define main function to run chatbot\n",
    "def run_chatbot():\n",
    "    print(\"Hello! I'm Chatbot. How can I assist you today?\")\n",
    "    \n",
    "    while True:\n",
    "        user_input = input(\"You: \")\n",
    "        \n",
    "        if user_input == \"bye\":\n",
    "            print(\"Chatbot: Goodbye!\")\n",
    "            break\n",
    "        \n",
    "        chatbot_output = chatbot_response(user_input)\n",
    "        print(\"Chatbot: \" + chatbot_output)\n",
    "\n",
    "# Run chatbot\n",
    "run_chatbot()\n"
   ]
  }
 ],
 "metadata": {
  "kernelspec": {
   "display_name": "Python 3",
   "language": "python",
   "name": "python3"
  },
  "language_info": {
   "codemirror_mode": {
    "name": "ipython",
    "version": 3
   },
   "file_extension": ".py",
   "mimetype": "text/x-python",
   "name": "python",
   "nbconvert_exporter": "python",
   "pygments_lexer": "ipython3",
   "version": "3.7.3"
  }
 },
 "nbformat": 4,
 "nbformat_minor": 2
}
